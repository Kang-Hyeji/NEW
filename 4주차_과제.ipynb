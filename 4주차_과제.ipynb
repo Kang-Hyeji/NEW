{
  "nbformat": 4,
  "nbformat_minor": 0,
  "metadata": {
    "colab": {
      "name": "4주차_과제.ipynb",
      "provenance": [],
      "collapsed_sections": [],
      "include_colab_link": true
    },
    "kernelspec": {
      "name": "python3",
      "display_name": "Python 3"
    }
  },
  "cells": [
    {
      "cell_type": "markdown",
      "metadata": {
        "id": "view-in-github",
        "colab_type": "text"
      },
      "source": [
        "<a href=\"https://colab.research.google.com/github/Kang-Hyeji/NEW/blob/master/4%EC%A3%BC%EC%B0%A8_%EA%B3%BC%EC%A0%9C.ipynb\" target=\"_parent\"><img src=\"https://colab.research.google.com/assets/colab-badge.svg\" alt=\"Open In Colab\"/></a>"
      ]
    },
    {
      "cell_type": "markdown",
      "metadata": {
        "id": "wxkL6PjwsI6L",
        "colab_type": "text"
      },
      "source": [
        "# 4주차 과제\n",
        "- 용어 정리\n",
        "- 딥러닝 강의 클론 코딩\n",
        "- 딥러닝 순전파 & 역전파 계산"
      ]
    },
    {
      "cell_type": "markdown",
      "metadata": {
        "id": "ixEtDe6_uGgI",
        "colab_type": "text"
      },
      "source": [
        "## 1. 용어 정리\n",
        "\n",
        "다음 제시된 단어의 정의(설명)를 정리하여 작성 하세요.\n",
        "\n",
        "* 2문장 이상 작성 해 주세요. \n",
        "* 주제(단어)와 크게 벗어나지만 않는다면 정답처리 됩니다.\n",
        "* 강의 뿐 아니라 기타 레퍼런스를 참고하여 작성하셔도 됩니다. (기타 레퍼런스를 참고하신 경우, 해당 레퍼런스를 정리하여 하단에 작성해 주세요.)\n"
      ]
    },
    {
      "cell_type": "markdown",
      "metadata": {
        "id": "0lfwat8eurKZ",
        "colab_type": "text"
      },
      "source": [
        "__(예시)__\n",
        "### 심층 신경망\n",
        ": 입력층과 출력층 사이에 여러 개의 은닉층들로 이뤄진 인공신경망이다. 심층 신경망은 일반적으로 인공신경망과 마찬가지로 복잡한 비선형 관계들을 모델링 할 수 있다. 신층신경망의 목적은 분류 및 수치예측을 하기 위함이고 이미지 트레이닝이나 문자인식과 같은 분야에서 매우 유용하게 쓰이고 있다."
      ]
    },
    {
      "cell_type": "markdown",
      "metadata": {
        "id": "Y8YJNKG_v65A",
        "colab_type": "text"
      },
      "source": [
        "### MCP 뉴런\n",
        ":1943년 워랜 맥컬록과 월터 피츠가 처음으로 발표한 간소화된 뇌의 뉴런 개념.\n",
        "신경세포를 이진 출력을 내는 간단한 논리 회로로 표현.\n",
        "### 퍼셉트론\n",
        ": 1957년  프랭크 로젠 블렛은 MCP 뉴런 모델을 기반으로 퍼셉트론 학습 개념을 처음으로 발표.\n",
        "퍼셉트론 규칙에서 프랭크 로젠 블랫은 자동으로 최적의 가중치를 학습하는 알고리즘을 제안. 이 가중치는 뉴런의 출력 신호를 낼지 말지를 결정하기 위해 입력 특성에 곱하는 계수. \n",
        "여러개의 입력을 받아 각각의 값에 가중치를 곱한 후 모두 더한것이 출력되는 모델\n",
        "\n",
        "### 역전파\n",
        ": 1986년 다수의 연구진들은 다층 퍼셉트론을 제시, 은닉층을 활용하게되면, 선형 분류 판별선을 여러개 그리는 효과를 얻음으로써 XOR문제를 해결할 수 있다 말하였다. 하지만 이 다층 퍼셉트론의 치명적인 약점은 바로 파라미터 개수가 많아지면서 적절한 가중치와 편향을 학습하는 것이 어렵다는 것이였는데 이문제에 대해 제프리 힌턴은 역전파 알고리즘을 제시하여 문제를 깔끔하게 해결.\n",
        "\n",
        "역전파는 뉴런의 가중치를 효율적으로 조정하기 위하여, 거꾸로 무엇인가를 전파하는 방식 \n",
        "역전파는 수열의 점화식처럼 오차를 전파하는 방법이기도 한다.\n",
        "\n",
        "### 강화학습\n",
        ": 알고리즘이 다양한 시도를 거치며 최적의 결과를 낼 수 있는 조합을 찾아내는 방식. 에이전트는 환경과 핑퐁하며 보상이 최대화되는 일련의 행동을 강화학습을 통해 학습\n",
        "\n",
        "### 과적합\n",
        ": 머신러닝에서 학습 데이터에 과하게 학습된 경우. 일반적으로 학습 데이타는 실제 데이타의 부분 집합이므로 학습데이타에 대해서는 오차가 감소하지만 실제 데이타에 대해서는 오차가 증가하게 된다.\n",
        "### 차원의 저주\n",
        ": 변수의 수가 늘어나 차원이 커지면서 발생하는 문제를 차원의 저주라고 함.\n",
        "차원이 증가하면 그 데이터 공간이 커지기 때문에 이를 채우기 위한 데이터 건수도 증가. 변수가 늘어나면 데이터 공간을 채우는 비율이 줄어들기 때문에 변수가 많아질 수록 분석에 요구되는 데이터 건수도 증가.\n",
        "\n",
        "\n",
        "\n",
        "\n",
        "\n",
        "\n",
        "https://ko.wikipedia.org/wiki/%EA%B3%BC%EC%A0%81%ED%95%A9 - 과적합\n",
        "https://kkokkilkon.tistory.com/127 -차원의 저주\n"
      ]
    },
    {
      "cell_type": "markdown",
      "metadata": {
        "id": "d-zfFXLCy6jD",
        "colab_type": "text"
      },
      "source": [
        "## 2. 딥러닝 강의 클론 코딩\n",
        "\n",
        "####__퍼셉트론 구조 구현하기__ \n",
        "딥러닝 강의(__딥러닝 원리[1] 3:15 ~ 5:15 부분__)를 보고 코드를 따라 치며 출력 결과를 만드세요.\n",
        " \n",
        "\n",
        "* 하나의 코드셀에 해당 코드를 한번에 다 적어서 실행해주세요 (__그렇게 하지 않을 경우, 아래 이미지와 같은 출력값이 나오지 않을 수 있습니다__)\n",
        "\n",
        "*__주의!__ 실제로 코딩해서 출력해보면 강의에 나온 출력 결과와 다르게 나옵니다!!\n"
      ]
    },
    {
      "cell_type": "markdown",
      "metadata": {
        "id": "wcc5mzI9oZ7r",
        "colab_type": "text"
      },
      "source": [
        "![대체 텍스트](https://www.notion.so/image/https%3A%2F%2Fs3-us-west-2.amazonaws.com%2Fsecure.notion-static.com%2F0cceeed0-0235-4b0f-af88-0b8c377d5b4b%2F_2020-06-09__9.35.23.png?table=block&id=88fd8912-9356-49a4-9fda-a1a63fe96ea9&width=2870&cache=v2)"
      ]
    },
    {
      "cell_type": "code",
      "metadata": {
        "id": "8XCb43ccZCGM",
        "colab_type": "code",
        "colab": {
          "base_uri": "https://localhost:8080/",
          "height": 223
        },
        "outputId": "e6d96ab5-b877-4660-eff2-1b0e930514f4"
      },
      "source": [
        "import tensorflow as tf\n",
        "tf.compat.v1.set_random_seed(2020)\n",
        "x = 1\n",
        "y = 0\n",
        "w = tf.random.normal([1],0,1)\n",
        "\n",
        "import math\n",
        "def sigmoid(x) :\n",
        "  return 1/(1+math.exp(-x))\n",
        "output = sigmoid(x*w)\n",
        "print(output)\n",
        "\n",
        "for i in range(1000):\n",
        "  output=sigmoid(x*w)\n",
        "  error = y - output   \n",
        "  w = w + x*0.1*error      #경사하강법\n",
        "\n",
        "  if i%100 ==99:\n",
        "    print(\"학습횟수 : \",i,\"Error : \",error,\"예측결과 : \",output)"
      ],
      "execution_count": 2,
      "outputs": [
        {
          "output_type": "stream",
          "text": [
            "0.47477188589261\n",
            "학습횟수 :  99 Error :  -0.10010598284299604 예측결과 :  0.10010598284299604\n",
            "학습횟수 :  199 Error :  -0.05178399422833116 예측결과 :  0.05178399422833116\n",
            "학습횟수 :  299 Error :  -0.034590451977903586 예측결과 :  0.034590451977903586\n",
            "학습횟수 :  399 Error :  -0.02588962752851373 예측결과 :  0.02588962752851373\n",
            "학습횟수 :  499 Error :  -0.020658699939863617 예측결과 :  0.020658699939863617\n",
            "학습횟수 :  599 Error :  -0.017174253993457355 예측결과 :  0.017174253993457355\n",
            "학습횟수 :  699 Error :  -0.014689506449480992 예측결과 :  0.014689506449480992\n",
            "학습횟수 :  799 Error :  -0.012829497265431342 예측결과 :  0.012829497265431342\n",
            "학습횟수 :  899 Error :  -0.011385568271837804 예측결과 :  0.011385568271837804\n",
            "학습횟수 :  999 Error :  -0.010232493309882492 예측결과 :  0.010232493309882492\n"
          ],
          "name": "stdout"
        }
      ]
    },
    {
      "cell_type": "markdown",
      "metadata": {
        "id": "kr0HVRk8fOom",
        "colab_type": "text"
      },
      "source": [
        "## 3. 딥러닝 순전파 & 역전파 계산\n",
        "\n",
        "딥러닝 강의(__딥러닝 원리[2] 0:55 ~ 4:32 부분__)에 나오는 순전파 & 역전파 계산에 대한 문제 입니다.\n",
        "\n",
        "해당 영상과 다음 이미지를 참고하여 다음 2가지 물음에 답하세요.\n",
        "\n",
        "\n",
        "(1) 학습률이 0.2 일 경우 출력층의 노드값\n",
        "\n",
        "(2) 학습률이 0.1과 0.2 중 기대출력값이 지도데이터 \"3\"과 더 가까운 학습률은?"
      ]
    },
    {
      "cell_type": "markdown",
      "metadata": {
        "id": "CpwPFWhOUzww",
        "colab_type": "text"
      },
      "source": [
        "![대체 텍스트](https://www.notion.so/image/https%3A%2F%2Fs3-us-west-2.amazonaws.com%2Fsecure.notion-static.com%2Ff54dfd45-92ec-44ae-9616-6949d2484a45%2F_2020-06-10__5.22.03.png?table=block&id=ee05da89-3ceb-4ad9-a2d3-c9f68d24d1d9&width=3580&cache=v2)"
      ]
    },
    {
      "cell_type": "markdown",
      "metadata": {
        "id": "B2OVY7w5U3CI",
        "colab_type": "text"
      },
      "source": [
        "## (1) 학습률이 0.2 일 경우 출력층의 노드값 : 1.6\n",
        "## (2) 학습률이 0.1과 0.2 중 기대출력값이 지도데이터 \"3\"과 더 가까운 학습률은? : 0.1"
      ]
    },
    {
      "cell_type": "code",
      "metadata": {
        "id": "BgavfvqiWxBU",
        "colab_type": "code",
        "colab": {}
      },
      "source": [
        ""
      ],
      "execution_count": null,
      "outputs": []
    }
  ]
}